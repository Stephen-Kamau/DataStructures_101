{
 "cells": [
  {
   "cell_type": "code",
   "execution_count": null,
   "id": "994d5795-2112-400e-ba0e-69db413d00b7",
   "metadata": {},
   "outputs": [],
   "source": []
  },
  {
   "cell_type": "code",
   "execution_count": null,
   "id": "1a2eebb9-b233-437a-8bca-dd8743034d03",
   "metadata": {},
   "outputs": [],
   "source": []
  },
  {
   "cell_type": "markdown",
   "id": "56ed3ce4-8887-4eb8-8a1e-03c9b9197cad",
   "metadata": {},
   "source": [
    "## DATA STRUCTURES\n",
    "\n",
    "- I this notebook will be an introduction to basic data structures\n",
    "- We will cover \n",
    "    - Queues\n",
    "    - Stack\n",
    "    - Binary Trees\n",
    "    - Graphs."
   ]
  },
  {
   "cell_type": "markdown",
   "id": "748a4e63-879b-4e1c-afcb-161a586cc34a",
   "metadata": {},
   "source": [
    "### 1. Queeue\n",
    "\n",
    "- value->\"steve\"->7->1->2->3\n",
    "\n",
    "- enqueue , dequeu , size ,empty"
   ]
  },
  {
   "cell_type": "code",
   "execution_count": 23,
   "id": "14a37870-d179-4d4c-a328-2e05846a11b0",
   "metadata": {},
   "outputs": [],
   "source": [
    "class Node:\n",
    "    def __init__(self, item = None):\n",
    "        self.item = item\n",
    "        self.next = None\n",
    "        self.previous = None\n",
    "\n",
    "# Node(\"steve\").next =Node(\"g\")\n",
    "\n",
    "class Queue:\n",
    "    def __init__(self):\n",
    "        self.length = 0\n",
    "        self.head = None\n",
    "        self.tail = None\n",
    "\n",
    "    def enqueue(self, value):\n",
    "        \"\"\"\n",
    "        Add Items to the Queue in FIFO\n",
    "        \"\"\"\n",
    "        newNode = Node(value)\n",
    "        if self.head is None:\n",
    "            self.head = self.tail = newNode\n",
    "        \n",
    "        else:\n",
    "            #value->\"steve\"->7->1->2->3\n",
    "            self.tail.next = newNode\n",
    "            newNode.previous = self.tail\n",
    "            self.tail = newNode\n",
    "        self.length += 1\n",
    "\n",
    "    def dequeue(self):\n",
    "        \"\"\"\n",
    "        Remove the first Item -- first item that was added\n",
    "        \"\"\"\n",
    "        #value->\"steve\"->7->1->2->3\n",
    "        item = self.head.item\n",
    "        self.head = self.head.next #2\n",
    "        self.length -= 1\n",
    "        if self.length == 0:\n",
    "            self.tail = None\n",
    "        return item\n",
    "    \n",
    "    def size(self):\n",
    "        \"\"\"\n",
    "        Get The size\n",
    "        \"\"\"\n",
    "        return self.length\n",
    "    \n",
    "    def is_empty(self):\n",
    "        \"\"\"\n",
    "        Check if the Queue is empty\n",
    "        \"\"\"\n",
    "        if self.length == 0:\n",
    "            return True\n",
    "        else:\n",
    "            return False\n",
    "        \n",
    "    def __str__(self):\n",
    "        curr = self.head\n",
    "        ret = \"\"\n",
    "        while curr:\n",
    "            if curr.item:\n",
    "                ret +=  str(curr.item)+\"->\"\n",
    "            curr = curr.next\n",
    "        return ret[:-2]\n",
    "\n",
    "        "
   ]
  },
  {
   "cell_type": "code",
   "execution_count": 24,
   "id": "6623e58f-819a-44bc-b90e-6f5b9798a9cd",
   "metadata": {},
   "outputs": [
    {
     "name": "stdout",
     "output_type": "stream",
     "text": [
      "11\n"
     ]
    },
    {
     "data": {
      "text/plain": [
       "False"
      ]
     },
     "execution_count": 24,
     "metadata": {},
     "output_type": "execute_result"
    }
   ],
   "source": [
    "# test the queue\n",
    "que = Queue()\n",
    "\n",
    "for val in [3,6,2,56, \"jsj\",8,34,\"s\",23,\"mmu\",2343]:\n",
    "    que.enqueue(val)\n",
    "    \n",
    "# check size\n",
    "print(que.size())\n",
    "\n",
    "# check if is empty\n",
    "que.is_empty()"
   ]
  },
  {
   "cell_type": "code",
   "execution_count": 25,
   "id": "a440d836-4e67-4aa2-88fe-67fcaf73c9d0",
   "metadata": {},
   "outputs": [
    {
     "name": "stdout",
     "output_type": "stream",
     "text": [
      "3->6->2->56->jsj->8->34->s->23->mmu->2343\n"
     ]
    }
   ],
   "source": [
    "print(que.__str__())\n"
   ]
  },
  {
   "cell_type": "code",
   "execution_count": 12,
   "id": "78823427-f4a3-4a56-b36a-011b05c7d189",
   "metadata": {},
   "outputs": [
    {
     "data": {
      "text/plain": [
       "3"
      ]
     },
     "execution_count": 12,
     "metadata": {},
     "output_type": "execute_result"
    }
   ],
   "source": [
    "que.dequeue()"
   ]
  },
  {
   "cell_type": "code",
   "execution_count": 13,
   "id": "7167bfec-30ef-4677-91c9-06f80dae068e",
   "metadata": {},
   "outputs": [
    {
     "name": "stdout",
     "output_type": "stream",
     "text": [
      "6->2->56->jsj->8->34->s->23->mmu->2343\n"
     ]
    }
   ],
   "source": [
    "print(que)"
   ]
  },
  {
   "cell_type": "code",
   "execution_count": 14,
   "id": "145e3617-39a7-41bc-9ebe-30d4db31289e",
   "metadata": {},
   "outputs": [
    {
     "data": {
      "text/plain": [
       "6"
      ]
     },
     "execution_count": 14,
     "metadata": {},
     "output_type": "execute_result"
    }
   ],
   "source": [
    "que.dequeue()"
   ]
  },
  {
   "cell_type": "markdown",
   "id": "f8cda8ef-8ee8-4ca8-b7a7-99a96fae65f9",
   "metadata": {},
   "source": [
    "### A list can  also be used to impliment the above as follows\n",
    "\n",
    "`\n",
    "```\n",
    "class Queue:\n",
    "    \"\"\"\n",
    "    Queue implimentation using the List\n",
    "    \"\"\"\n",
    "    def __init__(self):\n",
    "        self.items = []\n",
    "\n",
    "    def isEmpty(self):\n",
    "        return self.items == []\n",
    "\n",
    "    def enqueue(self, item):\n",
    "        self.items.insert(0,item)\n",
    "\n",
    "    def dequeue(self):\n",
    "        return self.items.pop()\n",
    "\n",
    "    def size(self):\n",
    "        return len(self.items)\n",
    "`\n",
    "```"
   ]
  },
  {
   "cell_type": "code",
   "execution_count": null,
   "id": "dc86c379-2c1e-4241-b71c-aaf6147d128b",
   "metadata": {},
   "outputs": [],
   "source": []
  },
  {
   "cell_type": "code",
   "execution_count": null,
   "id": "3ed001c2-f96a-4fdf-83f3-7940cfb44bad",
   "metadata": {},
   "outputs": [],
   "source": []
  },
  {
   "cell_type": "code",
   "execution_count": 28,
   "id": "dbddca71-e0da-497c-9843-ae219773e12c",
   "metadata": {},
   "outputs": [],
   "source": [
    "class Node:\n",
    "    \"\"\"\n",
    "    Initialize a node\n",
    "    \"\"\"\n",
    "    def __init__(self, value):\n",
    "        self.value = value\n",
    "        self.next = None\n",
    "\n",
    "class Stack:\n",
    "    \"\"\"\n",
    "    Stack ADT implimentation\n",
    "    \"\"\"\n",
    "    def __init__(self):\n",
    "        self.head = Node(\"head\")\n",
    "        self.size = 0\n",
    "\n",
    "\n",
    "    # return the items in stack in a more readable format\n",
    "    def __str__(self):\n",
    "        \"\"\"\n",
    "        Show results\n",
    "        \"\"\"\n",
    "        curr = self.head.next\n",
    "        ret = \"\"\n",
    "        while curr:\n",
    "            if curr.value:\n",
    "                ret +=  str(curr.value)+\"->\"\n",
    "            curr = curr.next\n",
    "        return ret[:-2]\n",
    "\n",
    "    # count total items\n",
    "    def getlength(self):\n",
    "        \"\"\"\n",
    "        get size\n",
    "        \"\"\"\n",
    "        return self.size\n",
    "\n",
    "\n",
    "    # check if Empty\n",
    "    def isEmpty(self):\n",
    "        \"\"\"\n",
    "        Check if stack is empty\n",
    "        \"\"\"\n",
    "#         if self.size == 0:\n",
    "#             return True\n",
    "#         else:\n",
    "#             return False\n",
    "        return self.size == 0\n",
    "\n",
    "\n",
    "    # returns the last / top elemetn from the adt\n",
    "    def peek(self):\n",
    "        \"\"\"\n",
    "        Get the top elemetn\n",
    "        \"\"\"\n",
    "        # check first if empty\n",
    "        if self.isEmpty():\n",
    "            raise Exception(\"The ADT has no data currently\")\n",
    "        return self.head.next.value\n",
    "\n",
    "\n",
    "    # insert a value to the ADT\n",
    "    def push(self, value):\n",
    "        \"\"\"\n",
    "        Add an item\n",
    "        \"\"\"\n",
    "        node = Node(value)\n",
    "        node.next = self.head.next\n",
    "        self.head.next = node\n",
    "        # increment the size of the stack\n",
    "        self.size += 1\n",
    "\n",
    "    # delete and return the last element in the statck\n",
    "    def pop(self):\n",
    "        \"\"\"\n",
    "        Remove last item and return it\n",
    "        \"\"\"  \n",
    "        #3->7->5->6\n",
    "        if self.isEmpty():\n",
    "            raise Exception(\"The STACK ADT is currently Empty\")\n",
    "        # delete last Element\n",
    "        rem = self.head.next\n",
    "        self.head.next = self.head.next.next\n",
    "        # decresse the count\n",
    "        self.size -= 1\n",
    "        return rem.value\n",
    "\n"
   ]
  },
  {
   "cell_type": "code",
   "execution_count": 29,
   "id": "7f7861cc-d25b-40f7-9107-804a5b0a6dd9",
   "metadata": {},
   "outputs": [],
   "source": [
    "# test the stack\n",
    "stack = Stack()\n",
    "# add items\n",
    "# for val in [3,6,2,56,8,34,465,23,23,2343]:\n",
    "for val in [3,6,2,56, \"jsj\",8,34,\"s\",23,\"mmu\",2343]:\n",
    "    stack.push(val)"
   ]
  },
  {
   "cell_type": "code",
   "execution_count": 30,
   "id": "1b0a80b9-7ab0-4b56-b105-a2600a25bf6d",
   "metadata": {},
   "outputs": [
    {
     "name": "stdout",
     "output_type": "stream",
     "text": [
      "2343->mmu->23->s->34->8->jsj->56->2->6->3\n"
     ]
    }
   ],
   "source": [
    "print(stack)"
   ]
  },
  {
   "cell_type": "code",
   "execution_count": 32,
   "id": "ed0f4856-409e-4275-8b51-7b989baf8aee",
   "metadata": {},
   "outputs": [
    {
     "data": {
      "text/plain": [
       "2343"
      ]
     },
     "execution_count": 32,
     "metadata": {},
     "output_type": "execute_result"
    }
   ],
   "source": [
    "stack.pop()"
   ]
  },
  {
   "cell_type": "code",
   "execution_count": 37,
   "id": "95251388-65cf-4c4f-8f13-81df0c8e8213",
   "metadata": {},
   "outputs": [
    {
     "name": "stdout",
     "output_type": "stream",
     "text": [
      "23->s->34->8->jsj->56->2->6->3\n"
     ]
    }
   ],
   "source": [
    "print(stack)"
   ]
  },
  {
   "cell_type": "code",
   "execution_count": 38,
   "id": "c7eef8f3-a7c4-45cf-97d8-668b4d93a068",
   "metadata": {},
   "outputs": [
    {
     "data": {
      "text/plain": [
       "23"
      ]
     },
     "execution_count": 38,
     "metadata": {},
     "output_type": "execute_result"
    }
   ],
   "source": [
    "stack.peek()"
   ]
  },
  {
   "cell_type": "code",
   "execution_count": 31,
   "id": "4265c472-f8b5-4a9c-83c2-58eec4ea1653",
   "metadata": {},
   "outputs": [
    {
     "name": "stdout",
     "output_type": "stream",
     "text": [
      "3->6->2->56->jsj->8->34->s->23->mmu->2343\n"
     ]
    }
   ],
   "source": [
    "print(que.__str__())"
   ]
  },
  {
   "cell_type": "code",
   "execution_count": 33,
   "id": "1de9ab76-48ce-454c-ad68-4dea5d6455b1",
   "metadata": {},
   "outputs": [
    {
     "data": {
      "text/plain": [
       "3"
      ]
     },
     "execution_count": 33,
     "metadata": {},
     "output_type": "execute_result"
    }
   ],
   "source": [
    "que.dequeue()"
   ]
  },
  {
   "cell_type": "code",
   "execution_count": 34,
   "id": "77ead344-a6fb-4bc4-8ce2-7471c56f75a3",
   "metadata": {},
   "outputs": [
    {
     "data": {
      "text/plain": [
       "10"
      ]
     },
     "execution_count": 34,
     "metadata": {},
     "output_type": "execute_result"
    }
   ],
   "source": [
    "stack.getlength()"
   ]
  },
  {
   "cell_type": "code",
   "execution_count": 35,
   "id": "a13d8d7d-abc0-4d00-92c8-cba52bed8021",
   "metadata": {},
   "outputs": [
    {
     "name": "stdout",
     "output_type": "stream",
     "text": [
      "Poopped  mmu\n"
     ]
    }
   ],
   "source": [
    "print(f\"Poopped  {stack.pop()}\")"
   ]
  },
  {
   "cell_type": "code",
   "execution_count": null,
   "id": "80543fd5-945e-4cc0-b09f-0298bb56bd58",
   "metadata": {},
   "outputs": [],
   "source": []
  },
  {
   "cell_type": "code",
   "execution_count": null,
   "id": "598ff16a-574c-46bd-a91b-2c2e75fb9e6c",
   "metadata": {},
   "outputs": [],
   "source": []
  },
  {
   "cell_type": "markdown",
   "id": "109daf58-f0b9-42c1-87a9-b7066c7bf72d",
   "metadata": {},
   "source": [
    "### Binary Tree"
   ]
  },
  {
   "cell_type": "code",
   "execution_count": 41,
   "id": "1a51c366-1d54-4b3d-93d7-bc73d5d297f5",
   "metadata": {},
   "outputs": [],
   "source": [
    "\n",
    "\n",
    "class BST:\n",
    "    \"\"\"\n",
    "    BST -- A binary tree implimentation\n",
    "    - The tree is \n",
    "    \"\"\"\n",
    "    def __init__(self ,data):\n",
    "        \"\"\"\n",
    "        Init data\n",
    "        \"\"\"\n",
    "        self.data = data\n",
    "        self.left =None\n",
    "        self.right =None\n",
    "\n",
    "    \n",
    "    def insert(self ,value):\n",
    "        \"\"\"\n",
    "        Add data to the tree in ordered manner\n",
    "        \"\"\"\n",
    "        currNode = self\n",
    "\n",
    "        while True:\n",
    "            if value < currNode.data:\n",
    "                #move leftmost\n",
    "                if currNode.left is None:\n",
    "                    currNode.left = BST(value)\n",
    "                    break;\n",
    "                else:\n",
    "                    currNode = currNode.left\n",
    "            else:\n",
    "                #move rightmost\n",
    "                if currNode.right is None:\n",
    "                    currNode.right = BST(value)\n",
    "                    break;\n",
    "                else:\n",
    "                    currNode = currNode.right\n",
    "\n",
    "        return self\n",
    "\n",
    "    def search(self , target):\n",
    "        \"\"\"\n",
    "        Search for an item\n",
    "        \"\"\"\n",
    "        currNode = self\n",
    "\n",
    "        while currNode is not None:\n",
    "            if currNode.data == target:\n",
    "                return True\n",
    "            elif target < currNode.data:\n",
    "                currNode = currNode.left\n",
    "            else:\n",
    "                currNode = currNode.right\n",
    "        return False\n"
   ]
  },
  {
   "cell_type": "code",
   "execution_count": 46,
   "id": "6a1a7daf-86f5-4c07-8ecb-459583a26411",
   "metadata": {},
   "outputs": [],
   "source": [
    "# TEST BST\n",
    "bst = (\n",
    "    BST(10)\n",
    "    .insert(5)\n",
    "    .insert(15)\n",
    "    .insert(22)\n",
    "    .insert(17)\n",
    "    .insert(34)\n",
    "    .insert(7)\n",
    "    .insert(2)\n",
    "    .insert(5)\n",
    "    .insert(1)\n",
    "    .insert(35)\n",
    "    .insert(27)\n",
    "    .insert(16)\n",
    "    .insert(30)\n",
    "    .insert(88)\n",
    ")"
   ]
  },
  {
   "cell_type": "code",
   "execution_count": 47,
   "id": "658f0590-8e48-4bf2-bfc2-acfeda261556",
   "metadata": {},
   "outputs": [
    {
     "name": "stdout",
     "output_type": "stream",
     "text": [
      "True\n",
      "False\n"
     ]
    }
   ],
   "source": [
    "# seach for a value\n",
    "print(bst.search(2))\n",
    "print(bst.search(888))"
   ]
  },
  {
   "cell_type": "markdown",
   "id": "c7dcc19f-2fb9-41ec-832e-11dbe8ce0cfc",
   "metadata": {},
   "source": [
    "###  A tree has various ways of transversing i.e\n",
    " -  Pre-order Traversal ===> The root node is visited first, then the left subtree and finally the right subtree.\n",
    " -  Post-order Traversal ===> The root node is visited last. First traverse the left subtree, then the right subtree and finally the root node.\n",
    " - In-order Traversal ===> The left subtree is visited first, then the root and later the right sub-tree. \n",
    " \n",
    "#### A thing to rememebrt is that every Node represents a subtree and has its own root. \n",
    "- Recursive methods are commonly used is this transversal algorithms\n",
    "\n",
    "#### Below is an example how this happens\n",
    "\n",
    "\n",
    "```\n",
    " For the tree,\n",
    "          10\n",
    "        /    \\\n",
    "       34      89\n",
    "     /    \\  /    \\\n",
    "  20     45  56    54\n",
    "\n",
    " Inorder traversal: 20 34 45 10 56 89 54\n",
    " Preorder traversal: 10 34 20 45 89 56 54\n",
    " Postorder traversal: 20 45 34 56 54 89 10\n",
    "\n",
    "```\n",
    "\n",
    "\n",
    "- Other method that can be used is level order transversal but it will not be covered in this case\n",
    "### Below is the implimnetation of the above transversal"
   ]
  },
  {
   "cell_type": "code",
   "execution_count": 48,
   "id": "e424cbff-2f77-4815-b476-f202c2befb97",
   "metadata": {},
   "outputs": [],
   "source": [
    "def PostOrderTraverse(tree , array):\n",
    "    \"\"\"\n",
    "    Post order transversal\n",
    "    - Visit root last -- move left then right and finally root\n",
    "    \"\"\"\n",
    "    if tree is not None:\n",
    "        PostOrderTraverse(tree.left, array)\n",
    "        PostOrderTraverse(tree.right, array)\n",
    "        array.append(tree.data)\n",
    "    return array\n",
    "\n",
    "def PreOrderTraverse(tree , array):\n",
    "    \"\"\"\n",
    "    Visit root first then left and finallly right\n",
    "    \"\"\"\n",
    "    if tree is not None:\n",
    "        array.append(tree.data)\n",
    "        PreOrderTraverse(tree.left, array)\n",
    "        PreOrderTraverse(tree.right, array)\n",
    "    return array\n",
    "\n",
    "def inOrderTraverse(tree, array):\n",
    "    \"\"\"\n",
    "    Visit left the root and finally right\n",
    "    \"\"\"\n",
    "    if tree is not None:\n",
    "        inOrderTraverse(tree.left, array)\n",
    "        array.append(tree.data)\n",
    "        inOrderTraverse(tree.right, array)\n",
    "    return array\n"
   ]
  },
  {
   "cell_type": "code",
   "execution_count": 49,
   "id": "02d94884-07c6-4cc2-a5e1-ee2d4fa27666",
   "metadata": {},
   "outputs": [
    {
     "name": "stdout",
     "output_type": "stream",
     "text": [
      "PostOrderTraverse   [1, 2, 5, 7, 5, 16, 17, 30, 27, 88, 35, 34, 22, 15, 10]\n",
      "Pre order Transversal   [10, 5, 2, 1, 7, 5, 15, 22, 17, 16, 34, 27, 30, 35, 88]\n",
      "In order Transversal [1, 2, 5, 5, 7, 10, 15, 16, 17, 22, 27, 30, 34, 35, 88]\n"
     ]
    }
   ],
   "source": [
    "print(\"PostOrderTraverse  \" ,PostOrderTraverse(bst ,[]))\n",
    "print(\"Pre order Transversal  \" , PreOrderTraverse(bst ,[]))\n",
    "print(\"In order Transversal\" , inOrderTraverse(bst ,[]))"
   ]
  },
  {
   "cell_type": "code",
   "execution_count": null,
   "id": "6f60aba6-40ed-4fa6-a4f0-188b8a69bc88",
   "metadata": {},
   "outputs": [],
   "source": []
  },
  {
   "cell_type": "code",
   "execution_count": null,
   "id": "b297a8a1-1989-4c9a-9288-c7fd2259781f",
   "metadata": {},
   "outputs": [],
   "source": []
  },
  {
   "cell_type": "markdown",
   "id": "96f3af91-71ad-472d-bd1b-fe59e8c9a88a",
   "metadata": {},
   "source": [
    "### Graphs\n"
   ]
  },
  {
   "cell_type": "code",
   "execution_count": 16,
   "id": "e48647c8-ae08-4051-b1ae-72fba4e12b48",
   "metadata": {},
   "outputs": [],
   "source": [
    "class Graph:\n",
    "    \"\"\"\n",
    "    nodes are vertex while links are edges\n",
    "    \"\"\"\n",
    "    def __init__(self , node):\n",
    "        self.node = node\n",
    "        self.links = []\n",
    "\n",
    "    def AddLinks(self , node):\n",
    "        self.links.append(Graph(node))\n",
    "\n",
    "\n",
    "    def DepthFirstSearch(self , array):\n",
    "        currNode = self\n",
    "        array.append(currNode.node)\n",
    "        # print(self.node)\n",
    "        #iterate all childrens\n",
    "        for link in currNode.links:\n",
    "            # print(link.node)\n",
    "            link.DepthFirstSearch(array)\n",
    "        return array\n",
    "\n",
    "    def breadthFirstSearch(self ,array):\n",
    "        queue = [self]\n",
    "        while len(queue) > 0:\n",
    "            currNode = queue.pop(0)\n",
    "            array.append(currNode.node)\n",
    "            for link in currNode.links:\n",
    "                queue.append(link)\n",
    "        return array\n"
   ]
  },
  {
   "cell_type": "markdown",
   "id": "04784478-64e9-4c35-a7de-4907c671aaa3",
   "metadata": {},
   "source": [
    "### For more about graphs and drawing them\n",
    "- Check `networkx module documentation`"
   ]
  },
  {
   "cell_type": "code",
   "execution_count": null,
   "id": "4a8acd40-ae86-4d3a-b1fa-d39bfda857c7",
   "metadata": {},
   "outputs": [],
   "source": []
  },
  {
   "cell_type": "code",
   "execution_count": null,
   "id": "ee24cefc-b02f-46bc-9101-9e2915d99e06",
   "metadata": {},
   "outputs": [],
   "source": []
  }
 ],
 "metadata": {
  "kernelspec": {
   "display_name": "Python 3",
   "language": "python",
   "name": "python3"
  },
  "language_info": {
   "codemirror_mode": {
    "name": "ipython",
    "version": 3
   },
   "file_extension": ".py",
   "mimetype": "text/x-python",
   "name": "python",
   "nbconvert_exporter": "python",
   "pygments_lexer": "ipython3",
   "version": "3.8.8"
  }
 },
 "nbformat": 4,
 "nbformat_minor": 5
}
